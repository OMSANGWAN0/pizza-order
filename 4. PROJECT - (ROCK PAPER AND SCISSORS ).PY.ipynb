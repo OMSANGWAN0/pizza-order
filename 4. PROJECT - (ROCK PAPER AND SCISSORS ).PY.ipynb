{
 "cells": [
  {
   "cell_type": "code",
   "execution_count": null,
   "id": "f13aed8d",
   "metadata": {},
   "outputs": [],
   "source": [
    "import random\n",
    "\n",
    "rock = '''             _    ,-,    _\n",
    "                 ,--, /: :\\/': :`\\/: :\\\n",
    "                |`;  ' `,'   `.;    `: |\n",
    "                |    |     |  '  |     |.\n",
    "                | :  |     | pb  |     ||\n",
    "                | :. |  :  |  :  |  :  | \\\n",
    "                 \\__/: :.. : :.. | :.. |  )\n",
    "                      `---',\\___/,\\___/ /'\n",
    "                           `==._ .. . /'\n",
    "                                `-::-'''\n",
    "\n",
    "\n",
    "scissors = '''   ____\n",
    "  / __ \\\n",
    " ( (__) |___ ___\n",
    "  \\________,'   \"\"\"\"\"----....____\n",
    "   _______<  () dd       ____----'\n",
    "  / __   __`.___-----\"\"\"\"\n",
    " ( (__) |\n",
    "  \\____/'''\n",
    "\n",
    "paper = '''\n",
    " __   __ _ _ __   ___ _ __ \n",
    "| '_ \\ / _` | '_ \\ / _ \\ '__|\n",
    "| |_) | (_| | |_) |  __/ |   \n",
    "| .__/ \\__,_| .__/ \\___|_|   \n",
    "| |         | |              \n",
    "|_|         |_|           '''\n",
    "\n",
    "game_images =[rock, paper, scissors]\n",
    "user_choice = int(input(\"what do you want to choose ? type 0 for rock , 1 for paper , 2 for scissors\"))\n",
    "print(game_images[user_choice])\n",
    "computer_choice = random.randint(0,2)\n",
    "print(f\"computer chose :\")\n",
    "print(game_images[computer_choice])\n",
    "\n",
    "if user_choice == 0 and computer_choice == 2:\n",
    "    print(\"you win !! \")\n",
    "elif computer_choice > user_choice:\n",
    "    print(\"you lose \")\n",
    "elif computer_choice == 0 and user_choice == 2:\n",
    "    print(\"you lose !\")\n",
    "elif user_choice > computer_choice:\n",
    "    print(\"you win !\")\n",
    "elif computer_choice == user_choice :\n",
    "     print(\"it's a draw\")\n",
    "elif user_choice >= 3 or user_choice < 0 :\n",
    "    print(\"please enter a valid number \")"
   ]
  }
 ],
 "metadata": {
  "kernelspec": {
   "display_name": "Python 3 (ipykernel)",
   "language": "python",
   "name": "python3"
  },
  "language_info": {
   "codemirror_mode": {
    "name": "ipython",
    "version": 3
   },
   "file_extension": ".py",
   "mimetype": "text/x-python",
   "name": "python",
   "nbconvert_exporter": "python",
   "pygments_lexer": "ipython3",
   "version": "3.10.9"
  }
 },
 "nbformat": 4,
 "nbformat_minor": 5
}
